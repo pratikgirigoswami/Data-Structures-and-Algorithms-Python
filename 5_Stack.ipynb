{
 "cells": [
  {
   "cell_type": "markdown",
   "id": "9c24696b",
   "metadata": {},
   "source": [
    "# Stack\n",
    "\n",
    "- Push & Pop operation\n",
    "- Last In First Out (LIFO)\n",
    "- Push, Pop: O(1)\n",
    "- Search element by value: O(n)"
   ]
  },
  {
   "cell_type": "markdown",
   "id": "c2cadfdb",
   "metadata": {},
   "source": [
    "# Implementation"
   ]
  },
  {
   "cell_type": "code",
   "execution_count": 1,
   "id": "07ef1ddf",
   "metadata": {},
   "outputs": [],
   "source": [
    "from collections import deque\n",
    "stack = deque()"
   ]
  },
  {
   "cell_type": "code",
   "execution_count": 2,
   "id": "9f0faaac",
   "metadata": {},
   "outputs": [
    {
     "data": {
      "text/plain": [
       "['__add__',\n",
       " '__bool__',\n",
       " '__class__',\n",
       " '__class_getitem__',\n",
       " '__contains__',\n",
       " '__copy__',\n",
       " '__delattr__',\n",
       " '__delitem__',\n",
       " '__dir__',\n",
       " '__doc__',\n",
       " '__eq__',\n",
       " '__format__',\n",
       " '__ge__',\n",
       " '__getattribute__',\n",
       " '__getitem__',\n",
       " '__gt__',\n",
       " '__hash__',\n",
       " '__iadd__',\n",
       " '__imul__',\n",
       " '__init__',\n",
       " '__init_subclass__',\n",
       " '__iter__',\n",
       " '__le__',\n",
       " '__len__',\n",
       " '__lt__',\n",
       " '__mul__',\n",
       " '__ne__',\n",
       " '__new__',\n",
       " '__reduce__',\n",
       " '__reduce_ex__',\n",
       " '__repr__',\n",
       " '__reversed__',\n",
       " '__rmul__',\n",
       " '__setattr__',\n",
       " '__setitem__',\n",
       " '__sizeof__',\n",
       " '__str__',\n",
       " '__subclasshook__',\n",
       " 'append',\n",
       " 'appendleft',\n",
       " 'clear',\n",
       " 'copy',\n",
       " 'count',\n",
       " 'extend',\n",
       " 'extendleft',\n",
       " 'index',\n",
       " 'insert',\n",
       " 'maxlen',\n",
       " 'pop',\n",
       " 'popleft',\n",
       " 'remove',\n",
       " 'reverse',\n",
       " 'rotate']"
      ]
     },
     "execution_count": 2,
     "metadata": {},
     "output_type": "execute_result"
    }
   ],
   "source": [
    "dir(stack)"
   ]
  },
  {
   "cell_type": "code",
   "execution_count": 3,
   "id": "60248c8a",
   "metadata": {},
   "outputs": [
    {
     "data": {
      "text/plain": [
       "deque(['first_webpage.com'])"
      ]
     },
     "execution_count": 3,
     "metadata": {},
     "output_type": "execute_result"
    }
   ],
   "source": [
    "stack.append('first_webpage.com')\n",
    "stack"
   ]
  },
  {
   "cell_type": "code",
   "execution_count": 4,
   "id": "20ace2de",
   "metadata": {},
   "outputs": [
    {
     "data": {
      "text/plain": [
       "deque(['first_webpage.com', 'second_webpage.com'])"
      ]
     },
     "execution_count": 4,
     "metadata": {},
     "output_type": "execute_result"
    }
   ],
   "source": [
    "stack.append('second_webpage.com')\n",
    "stack"
   ]
  },
  {
   "cell_type": "code",
   "execution_count": 5,
   "id": "041bea89",
   "metadata": {},
   "outputs": [],
   "source": [
    "stack.append('third_webpage.com')\n",
    "stack.append('fourth_webpage.com')"
   ]
  },
  {
   "cell_type": "code",
   "execution_count": 6,
   "id": "33201b84",
   "metadata": {},
   "outputs": [
    {
     "data": {
      "text/plain": [
       "deque(['first_webpage.com',\n",
       "       'second_webpage.com',\n",
       "       'third_webpage.com',\n",
       "       'fourth_webpage.com'])"
      ]
     },
     "execution_count": 6,
     "metadata": {},
     "output_type": "execute_result"
    }
   ],
   "source": [
    "stack"
   ]
  },
  {
   "cell_type": "code",
   "execution_count": 7,
   "id": "f0a733cf",
   "metadata": {},
   "outputs": [
    {
     "data": {
      "text/plain": [
       "'fourth_webpage.com'"
      ]
     },
     "execution_count": 7,
     "metadata": {},
     "output_type": "execute_result"
    }
   ],
   "source": [
    "stack.pop() # pop function will return the last value and it will also remove it from the stack"
   ]
  },
  {
   "cell_type": "code",
   "execution_count": 8,
   "id": "1f65831f",
   "metadata": {},
   "outputs": [
    {
     "data": {
      "text/plain": [
       "deque(['first_webpage.com', 'second_webpage.com', 'third_webpage.com'])"
      ]
     },
     "execution_count": 8,
     "metadata": {},
     "output_type": "execute_result"
    }
   ],
   "source": [
    "stack"
   ]
  },
  {
   "cell_type": "code",
   "execution_count": 9,
   "id": "caa7eb00",
   "metadata": {},
   "outputs": [
    {
     "data": {
      "text/plain": [
       "'third_webpage.com'"
      ]
     },
     "execution_count": 9,
     "metadata": {},
     "output_type": "execute_result"
    }
   ],
   "source": [
    "stack.pop()"
   ]
  },
  {
   "cell_type": "code",
   "execution_count": 10,
   "id": "bb32f847",
   "metadata": {},
   "outputs": [
    {
     "data": {
      "text/plain": [
       "deque(['first_webpage.com', 'second_webpage.com'])"
      ]
     },
     "execution_count": 10,
     "metadata": {},
     "output_type": "execute_result"
    }
   ],
   "source": [
    "stack"
   ]
  },
  {
   "cell_type": "code",
   "execution_count": 13,
   "id": "d5fd8492",
   "metadata": {},
   "outputs": [],
   "source": [
    "# Let's play around with class\n",
    "# To define classical stack operations\n",
    "\n",
    "class Stack:\n",
    "    def __init__(self):\n",
    "        self.container = deque()\n",
    "    \n",
    "    def push(self, val):\n",
    "        self.container.append(val)\n",
    "        \n",
    "    def pop(self):\n",
    "        self.container.pop()\n",
    "    \n",
    "    # Peek function will just return the last value WITHOUT removing it from stack\n",
    "    def peek(self):\n",
    "        return self.container[-1]\n",
    "    \n",
    "    def is_empty(self):\n",
    "        return len(self.container) == 0\n",
    "    \n",
    "    def size(self):\n",
    "        return len(self.container)"
   ]
  },
  {
   "cell_type": "code",
   "execution_count": 14,
   "id": "83ca75e0",
   "metadata": {},
   "outputs": [],
   "source": [
    "s = Stack()\n",
    "s.push('Pratik')"
   ]
  },
  {
   "cell_type": "code",
   "execution_count": 15,
   "id": "5820f951",
   "metadata": {},
   "outputs": [
    {
     "data": {
      "text/plain": [
       "<__main__.Stack at 0x1851caad220>"
      ]
     },
     "execution_count": 15,
     "metadata": {},
     "output_type": "execute_result"
    }
   ],
   "source": [
    "s"
   ]
  },
  {
   "cell_type": "code",
   "execution_count": 16,
   "id": "6e77d4ae",
   "metadata": {},
   "outputs": [],
   "source": [
    "s.push('Krishna')"
   ]
  },
  {
   "cell_type": "code",
   "execution_count": 17,
   "id": "688c21c8",
   "metadata": {},
   "outputs": [
    {
     "data": {
      "text/plain": [
       "<__main__.Stack at 0x1851caad220>"
      ]
     },
     "execution_count": 17,
     "metadata": {},
     "output_type": "execute_result"
    }
   ],
   "source": [
    "s"
   ]
  },
  {
   "cell_type": "code",
   "execution_count": 18,
   "id": "b9cf14ae",
   "metadata": {},
   "outputs": [],
   "source": [
    "s.push('Love')"
   ]
  },
  {
   "cell_type": "code",
   "execution_count": 20,
   "id": "369d4b5a",
   "metadata": {},
   "outputs": [
    {
     "data": {
      "text/plain": [
       "3"
      ]
     },
     "execution_count": 20,
     "metadata": {},
     "output_type": "execute_result"
    }
   ],
   "source": [
    "s.size()"
   ]
  },
  {
   "cell_type": "code",
   "execution_count": 19,
   "id": "105cc8eb",
   "metadata": {},
   "outputs": [
    {
     "data": {
      "text/plain": [
       "'Love'"
      ]
     },
     "execution_count": 19,
     "metadata": {},
     "output_type": "execute_result"
    }
   ],
   "source": [
    "# Just returns the last element but will not remove it\n",
    "s.peek()"
   ]
  },
  {
   "cell_type": "code",
   "execution_count": 21,
   "id": "3cd54d45",
   "metadata": {},
   "outputs": [
    {
     "data": {
      "text/plain": [
       "3"
      ]
     },
     "execution_count": 21,
     "metadata": {},
     "output_type": "execute_result"
    }
   ],
   "source": [
    "# Let's verify it\n",
    "s.size()"
   ]
  },
  {
   "cell_type": "code",
   "execution_count": 22,
   "id": "e6612bf8",
   "metadata": {},
   "outputs": [],
   "source": [
    "# pop will return and remove the last element\n",
    "s.pop()"
   ]
  },
  {
   "cell_type": "code",
   "execution_count": 23,
   "id": "2573e023",
   "metadata": {},
   "outputs": [
    {
     "data": {
      "text/plain": [
       "2"
      ]
     },
     "execution_count": 23,
     "metadata": {},
     "output_type": "execute_result"
    }
   ],
   "source": [
    "# let's check the size now\n",
    "s.size()"
   ]
  },
  {
   "cell_type": "code",
   "execution_count": 24,
   "id": "73f47737",
   "metadata": {},
   "outputs": [
    {
     "data": {
      "text/plain": [
       "<bound method Stack.pop of <__main__.Stack object at 0x000001851CAAD220>>"
      ]
     },
     "execution_count": 24,
     "metadata": {},
     "output_type": "execute_result"
    }
   ],
   "source": [
    "s.pop"
   ]
  },
  {
   "cell_type": "code",
   "execution_count": 25,
   "id": "f1fef237",
   "metadata": {},
   "outputs": [],
   "source": [
    "s.pop()"
   ]
  },
  {
   "cell_type": "code",
   "execution_count": 27,
   "id": "37420827",
   "metadata": {},
   "outputs": [],
   "source": [
    "s.push(67)"
   ]
  },
  {
   "cell_type": "code",
   "execution_count": 29,
   "id": "52175894",
   "metadata": {},
   "outputs": [
    {
     "data": {
      "text/plain": [
       "0"
      ]
     },
     "execution_count": 29,
     "metadata": {},
     "output_type": "execute_result"
    }
   ],
   "source": [
    "s.size()"
   ]
  },
  {
   "cell_type": "code",
   "execution_count": 30,
   "id": "ed3feaec",
   "metadata": {},
   "outputs": [],
   "source": [
    "s.push(989)"
   ]
  },
  {
   "cell_type": "code",
   "execution_count": 31,
   "id": "5c734853",
   "metadata": {},
   "outputs": [
    {
     "data": {
      "text/plain": [
       "1"
      ]
     },
     "execution_count": 31,
     "metadata": {},
     "output_type": "execute_result"
    }
   ],
   "source": [
    "s.size()"
   ]
  },
  {
   "cell_type": "code",
   "execution_count": 33,
   "id": "ce4c8816",
   "metadata": {},
   "outputs": [
    {
     "data": {
      "text/plain": [
       "False"
      ]
     },
     "execution_count": 33,
     "metadata": {},
     "output_type": "execute_result"
    }
   ],
   "source": [
    "s.is_empty()"
   ]
  },
  {
   "cell_type": "code",
   "execution_count": 34,
   "id": "16deff1f",
   "metadata": {},
   "outputs": [],
   "source": [
    "s.pop()"
   ]
  },
  {
   "cell_type": "code",
   "execution_count": 35,
   "id": "70b9563f",
   "metadata": {},
   "outputs": [
    {
     "data": {
      "text/plain": [
       "True"
      ]
     },
     "execution_count": 35,
     "metadata": {},
     "output_type": "execute_result"
    }
   ],
   "source": [
    "s.is_empty()"
   ]
  },
  {
   "cell_type": "markdown",
   "id": "4542e0cc",
   "metadata": {},
   "source": [
    "# Exercise-1 - Reverse string using Stack "
   ]
  },
  {
   "cell_type": "markdown",
   "id": "2cd82b68",
   "metadata": {},
   "source": [
    "<b> Write a function in python that can reverse a string using stack data structure. \n",
    "   \n",
    "    reverse_string(\"We will conquere COVID-19\") \n",
    "   \n",
    "    should return \n",
    "    \n",
    "    \"91-DIVOC ereuqnoc lliw eW\" "
   ]
  },
  {
   "cell_type": "code",
   "execution_count": 36,
   "id": "c2b1e680",
   "metadata": {},
   "outputs": [],
   "source": [
    "from collections import deque"
   ]
  },
  {
   "cell_type": "code",
   "execution_count": 38,
   "id": "63c42d96",
   "metadata": {},
   "outputs": [
    {
     "name": "stdout",
     "output_type": "stream",
     "text": [
      "91-IVOC ereuqnoc lliw eW\n",
      ".enon rof tiaw edit dna emiT\n"
     ]
    }
   ],
   "source": [
    "class Stack:\n",
    "    def __init__(self):\n",
    "        self.container = deque()\n",
    "\n",
    "    def push(self, val):\n",
    "        self.container.append(val)\n",
    "\n",
    "    def pop(self):\n",
    "        return self.container.pop()\n",
    "\n",
    "    def peek(self):\n",
    "        return self.container[-1]\n",
    "\n",
    "    def is_empty(self):\n",
    "        return len(self.container) == 0\n",
    "\n",
    "    def size(self):\n",
    "        return len(self.container)\n",
    "\n",
    "def reverse_string(s):\n",
    "    stack = Stack()\n",
    "\n",
    "    for ch in s:\n",
    "        stack.push(ch)\n",
    "\n",
    "    rstr = ''\n",
    "    while stack.size()!=0:\n",
    "        rstr += stack.pop()\n",
    "\n",
    "    return rstr\n",
    "\n",
    "\n",
    "if __name__ == '__main__':\n",
    "    print(reverse_string(\"We will conquere COVI-19\"))\n",
    "    print(reverse_string(\"Time and tide wait for none.\"))"
   ]
  },
  {
   "cell_type": "markdown",
   "id": "059c6590",
   "metadata": {},
   "source": [
    "# Exercise-2 - Paranthesis balance check"
   ]
  },
  {
   "cell_type": "markdown",
   "id": "89902234",
   "metadata": {},
   "source": [
    "<b> Write a function in python that checks if paranthesis in the string are balanced or not. Possible parantheses are \"{}',\"()\" or \"[]\"."
   ]
  },
  {
   "cell_type": "code",
   "execution_count": 39,
   "id": "68fd7ede",
   "metadata": {},
   "outputs": [
    {
     "name": "stdout",
     "output_type": "stream",
     "text": [
      "True\n",
      "False\n",
      "True\n",
      "True\n",
      "False\n",
      "True\n"
     ]
    }
   ],
   "source": [
    "from collections import deque\n",
    "\n",
    "class Stack:\n",
    "    def __init__(self):\n",
    "        self.container = deque()\n",
    "\n",
    "    def push(self, val):\n",
    "        self.container.append(val)\n",
    "\n",
    "    def pop(self):\n",
    "        return self.container.pop()\n",
    "\n",
    "    def peek(self):\n",
    "        return self.container[-1]\n",
    "\n",
    "    def is_empty(self):\n",
    "        return len(self.container) == 0\n",
    "\n",
    "    def size(self):\n",
    "        return len(self.container)\n",
    "\n",
    "def is_match(ch1, ch2):\n",
    "    match_dict = {\n",
    "        ')': '(',\n",
    "        ']': '[',\n",
    "        '}': '{'\n",
    "    }\n",
    "    return match_dict[ch1] == ch2\n",
    "\n",
    "\n",
    "def is_balanced(s):\n",
    "    stack = Stack()\n",
    "    for ch in s:\n",
    "        if ch=='(' or ch=='{' or ch == '[':\n",
    "            stack.push(ch)\n",
    "        if ch==')' or ch=='}' or ch == ']':\n",
    "            if stack.size()==0:\n",
    "                return False\n",
    "            if not is_match(ch,stack.pop()):\n",
    "                return False\n",
    "\n",
    "    return stack.size()==0\n",
    "\n",
    "\n",
    "if __name__ == '__main__':\n",
    "    print(is_balanced(\"({a+b})\"))\n",
    "    print(is_balanced(\"))((a+b}{\"))\n",
    "    print(is_balanced(\"((a+b))\"))\n",
    "    print(is_balanced(\"((a+g))\"))\n",
    "    print(is_balanced(\"))\"))\n",
    "    print(is_balanced(\"[a+b]*(x+2y)*{gg+kk}\"))"
   ]
  },
  {
   "cell_type": "code",
   "execution_count": null,
   "id": "c8797766",
   "metadata": {},
   "outputs": [],
   "source": []
  }
 ],
 "metadata": {
  "kernelspec": {
   "display_name": "Python 3 (ipykernel)",
   "language": "python",
   "name": "python3"
  },
  "language_info": {
   "codemirror_mode": {
    "name": "ipython",
    "version": 3
   },
   "file_extension": ".py",
   "mimetype": "text/x-python",
   "name": "python",
   "nbconvert_exporter": "python",
   "pygments_lexer": "ipython3",
   "version": "3.9.7"
  }
 },
 "nbformat": 4,
 "nbformat_minor": 5
}
