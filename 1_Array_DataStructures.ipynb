{
 "cells": [
  {
   "cell_type": "markdown",
   "id": "6bc616d4",
   "metadata": {},
   "source": [
    "# Exercise - 1\n",
    "Let us say your expense for every month are listed below,\n",
    "1. January - 2200\n",
    "2. February - 2350\n",
    "3. March - 2600\n",
    "4. April - 2130\n",
    "5. May - 2190\n",
    "\n",
    "Create a list to store these monthly expenses and using that find out,\n",
    "\n",
    "1. In Feb, how many dollars you spent extra compare to January?\n",
    "2. Find out your total expense in first quarter (first three months) of the year.\n",
    "3. Find out if you spent exactly 2000 dollars in any month\n",
    "4. June month just finished and your expense is 1980 dollar. Add this item to our monthly expense list\n",
    "5. You returned an item that you bought in a month of April and got a refund of $200. Make a correction to your monthly expense list based on this"
   ]
  },
  {
   "cell_type": "code",
   "execution_count": 1,
   "id": "e9cfe88b",
   "metadata": {},
   "outputs": [],
   "source": [
    "# Expenses as list in monthwise order\n",
    "exp = [2200,2350,2600,2130,2190]"
   ]
  },
  {
   "cell_type": "code",
   "execution_count": 2,
   "id": "e5e14723",
   "metadata": {},
   "outputs": [
    {
     "name": "stdout",
     "output_type": "stream",
     "text": [
      "150\n"
     ]
    }
   ],
   "source": [
    "# In Feb, how many dollars you spent extra compare to January?\n",
    "print(exp[1]-exp[0])"
   ]
  },
  {
   "cell_type": "code",
   "execution_count": 4,
   "id": "1b709114",
   "metadata": {},
   "outputs": [
    {
     "name": "stdout",
     "output_type": "stream",
     "text": [
      "7150\n"
     ]
    }
   ],
   "source": [
    "# Find out your total expense in first quarter (first three months) of the year.\n",
    "print(sum(exp[0:3]))"
   ]
  },
  {
   "cell_type": "code",
   "execution_count": 6,
   "id": "9f9813d7",
   "metadata": {},
   "outputs": [
    {
     "name": "stdout",
     "output_type": "stream",
     "text": [
      "Spent exactly $2000 in any month?: False\n"
     ]
    }
   ],
   "source": [
    "# Find out if you spent exactly 2000 dollars in any month\n",
    "print('Spent exactly $2000 in any month?:', 2000 in exp)"
   ]
  },
  {
   "cell_type": "code",
   "execution_count": 7,
   "id": "5d9ae27c",
   "metadata": {},
   "outputs": [
    {
     "name": "stdout",
     "output_type": "stream",
     "text": [
      "[2200, 2350, 2600, 2130, 2190, 1980]\n"
     ]
    }
   ],
   "source": [
    "# June month just finished and your expense is 1980 dollar. Add this item to our monthly expense list\n",
    "exp.append(1980)\n",
    "print(exp)"
   ]
  },
  {
   "cell_type": "code",
   "execution_count": 8,
   "id": "b9951d43",
   "metadata": {},
   "outputs": [
    {
     "name": "stdout",
     "output_type": "stream",
     "text": [
      "[2200, 2350, 2600, 1930, 2190, 1980]\n"
     ]
    }
   ],
   "source": [
    "# You returned an item that you bought in a month of April and got a refund of $200. \n",
    "# Make a correction to your monthly expense list based on this\n",
    "\n",
    "exp[3] = exp[3]-200\n",
    "print(exp)"
   ]
  },
  {
   "cell_type": "markdown",
   "id": "abd354ef",
   "metadata": {},
   "source": [
    "# Exercise - 2\n",
    "\n",
    "You have a list of your favourite marvel super heroes.\n",
    "heroes=['spider man','thor','hulk','iron man','captain america']\n",
    "\n",
    "Using this find out,\n",
    "\n",
    "1. Length of the list\n",
    "2. Add 'black panther' at the end of this list\n",
    "3. You realize that you need to add 'black panther' after 'hulk',\n",
    "   so remove it from the list first and then add it after 'hulk'\n",
    "4. Now you don't like thor and hulk because they get angry easily :)\n",
    "   So you want to remove thor and hulk from list and replace them with doctor strange (because he is cool).\n",
    "   Do that with one line of code.\n",
    "5. Sort the heroes list in alphabetical order (Hint. Use dir() functions to list down all functions available in list)"
   ]
  },
  {
   "cell_type": "code",
   "execution_count": 24,
   "id": "4a96f12e",
   "metadata": {},
   "outputs": [],
   "source": [
    "heroes=['spider man','thor','hulk','iron man','captain america']"
   ]
  },
  {
   "cell_type": "code",
   "execution_count": 19,
   "id": "a91c624f",
   "metadata": {},
   "outputs": [
    {
     "name": "stdout",
     "output_type": "stream",
     "text": [
      "5\n"
     ]
    }
   ],
   "source": [
    "# Question-1\n",
    "print(len(heroes))"
   ]
  },
  {
   "cell_type": "code",
   "execution_count": 25,
   "id": "be73bec5",
   "metadata": {},
   "outputs": [
    {
     "name": "stdout",
     "output_type": "stream",
     "text": [
      "['spider man', 'thor', 'hulk', 'iron man', 'captain america', 'black panther']\n"
     ]
    }
   ],
   "source": [
    "# Question-2\n",
    "heroes.append('black panther')\n",
    "print(heroes)"
   ]
  },
  {
   "cell_type": "code",
   "execution_count": 26,
   "id": "ab3acd9b",
   "metadata": {},
   "outputs": [
    {
     "name": "stdout",
     "output_type": "stream",
     "text": [
      "['spider man', 'thor', 'hulk', 'black panther', 'iron man', 'captain america']\n"
     ]
    }
   ],
   "source": [
    "# Question-3\n",
    "heroes.remove('black panther')\n",
    "heroes.insert(3,'black panther')\n",
    "print(heroes)"
   ]
  },
  {
   "cell_type": "code",
   "execution_count": 27,
   "id": "fb5525d4",
   "metadata": {},
   "outputs": [
    {
     "name": "stdout",
     "output_type": "stream",
     "text": [
      "['spider man', 'doctor strange', 'black panther', 'iron man', 'captain america']\n"
     ]
    }
   ],
   "source": [
    "# Question-4\n",
    "heroes[1:3] = ['doctor strange']\n",
    "print(heroes)"
   ]
  },
  {
   "cell_type": "code",
   "execution_count": 31,
   "id": "24fdbf2b",
   "metadata": {},
   "outputs": [
    {
     "name": "stdout",
     "output_type": "stream",
     "text": [
      "['black panther', 'captain america', 'doctor strange', 'iron man', 'spider man']\n"
     ]
    }
   ],
   "source": [
    "# Question-5\n",
    "heroes.sort()\n",
    "print(heroes)"
   ]
  },
  {
   "cell_type": "markdown",
   "id": "5678e6c4",
   "metadata": {},
   "source": [
    "# Exercise - 3\n",
    "\n",
    "Create a list of all odd numbers between 1 and a max number. Max number is something you need to take from a user using input() function"
   ]
  },
  {
   "cell_type": "code",
   "execution_count": 36,
   "id": "fe5d190f",
   "metadata": {},
   "outputs": [
    {
     "name": "stdout",
     "output_type": "stream",
     "text": [
      "Enter the maximum number: 15\n",
      "[1, 3, 5, 7, 9, 11, 13, 15]\n"
     ]
    }
   ],
   "source": [
    "max_num = int(input('Enter the maximum number: '))\n",
    "odd_list = []\n",
    "i = 1\n",
    "while i <= max_num:\n",
    "    odd_list.append(i)\n",
    "    i = i + 2\n",
    "\n",
    "print(odd_list)"
   ]
  },
  {
   "cell_type": "code",
   "execution_count": null,
   "id": "a66e88ba",
   "metadata": {},
   "outputs": [],
   "source": []
  }
 ],
 "metadata": {
  "kernelspec": {
   "display_name": "Python 3 (ipykernel)",
   "language": "python",
   "name": "python3"
  },
  "language_info": {
   "codemirror_mode": {
    "name": "ipython",
    "version": 3
   },
   "file_extension": ".py",
   "mimetype": "text/x-python",
   "name": "python",
   "nbconvert_exporter": "python",
   "pygments_lexer": "ipython3",
   "version": "3.9.7"
  }
 },
 "nbformat": 4,
 "nbformat_minor": 5
}
