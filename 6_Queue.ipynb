{
 "cells": [
  {
   "cell_type": "markdown",
   "id": "9976fe47",
   "metadata": {},
   "source": [
    "# Notes:\n",
    "- Example: NYSE\n",
    "- First In First Out (FIFO)"
   ]
  },
  {
   "cell_type": "markdown",
   "id": "b51a717e",
   "metadata": {},
   "source": [
    "# Implementation Using List"
   ]
  },
  {
   "cell_type": "code",
   "execution_count": 1,
   "id": "b6deb3e1",
   "metadata": {},
   "outputs": [],
   "source": [
    "stock_price = []"
   ]
  },
  {
   "cell_type": "code",
   "execution_count": 2,
   "id": "1dddf8ef",
   "metadata": {},
   "outputs": [],
   "source": [
    "stock_price.insert(0, 101.1)"
   ]
  },
  {
   "cell_type": "code",
   "execution_count": 3,
   "id": "ba61c71a",
   "metadata": {},
   "outputs": [
    {
     "data": {
      "text/plain": [
       "[101.1]"
      ]
     },
     "execution_count": 3,
     "metadata": {},
     "output_type": "execute_result"
    }
   ],
   "source": [
    "stock_price"
   ]
  },
  {
   "cell_type": "code",
   "execution_count": 4,
   "id": "af44598b",
   "metadata": {},
   "outputs": [],
   "source": [
    "stock_price.insert(0, 102.54)"
   ]
  },
  {
   "cell_type": "code",
   "execution_count": 5,
   "id": "be69ea5d",
   "metadata": {},
   "outputs": [
    {
     "data": {
      "text/plain": [
       "[102.54, 101.1]"
      ]
     },
     "execution_count": 5,
     "metadata": {},
     "output_type": "execute_result"
    }
   ],
   "source": [
    "stock_price"
   ]
  },
  {
   "cell_type": "code",
   "execution_count": 6,
   "id": "4b31a576",
   "metadata": {},
   "outputs": [],
   "source": [
    "stock_price.insert(0, 101.54)"
   ]
  },
  {
   "cell_type": "code",
   "execution_count": 7,
   "id": "d19c6a6c",
   "metadata": {},
   "outputs": [
    {
     "data": {
      "text/plain": [
       "[101.54, 102.54, 101.1]"
      ]
     },
     "execution_count": 7,
     "metadata": {},
     "output_type": "execute_result"
    }
   ],
   "source": [
    "stock_price"
   ]
  },
  {
   "cell_type": "code",
   "execution_count": 8,
   "id": "c7d1bd39",
   "metadata": {},
   "outputs": [
    {
     "data": {
      "text/plain": [
       "101.1"
      ]
     },
     "execution_count": 8,
     "metadata": {},
     "output_type": "execute_result"
    }
   ],
   "source": [
    "stock_price.pop()"
   ]
  },
  {
   "cell_type": "code",
   "execution_count": 9,
   "id": "ac57c4e9",
   "metadata": {},
   "outputs": [
    {
     "data": {
      "text/plain": [
       "[101.54, 102.54]"
      ]
     },
     "execution_count": 9,
     "metadata": {},
     "output_type": "execute_result"
    }
   ],
   "source": [
    "stock_price"
   ]
  },
  {
   "cell_type": "code",
   "execution_count": 10,
   "id": "66a5649b",
   "metadata": {},
   "outputs": [
    {
     "data": {
      "text/plain": [
       "102.54"
      ]
     },
     "execution_count": 10,
     "metadata": {},
     "output_type": "execute_result"
    }
   ],
   "source": [
    "stock_price.pop()"
   ]
  },
  {
   "cell_type": "code",
   "execution_count": 11,
   "id": "cce528f7",
   "metadata": {},
   "outputs": [
    {
     "data": {
      "text/plain": [
       "[101.54]"
      ]
     },
     "execution_count": 11,
     "metadata": {},
     "output_type": "execute_result"
    }
   ],
   "source": [
    "stock_price"
   ]
  },
  {
   "cell_type": "markdown",
   "id": "d8c86b10",
   "metadata": {},
   "source": [
    "<b> Problem with list: same issues as dynamic arrays"
   ]
  },
  {
   "cell_type": "markdown",
   "id": "45cd3584",
   "metadata": {},
   "source": [
    "# Implementation using deque"
   ]
  },
  {
   "cell_type": "code",
   "execution_count": 13,
   "id": "639304af",
   "metadata": {},
   "outputs": [],
   "source": [
    "from collections import deque\n",
    "\n",
    "class Queue:\n",
    "    def __init__(self):\n",
    "        self.buffer = deque()\n",
    "        \n",
    "    def enqueue(self, val):\n",
    "        self.buffer.appendleft(val)\n",
    "        \n",
    "    def dequeue(self):\n",
    "        return self.buffer.pop()\n",
    "    \n",
    "    def is_empty(self):\n",
    "        return len(self.buffer) == 0\n",
    "    \n",
    "    def size(self):\n",
    "        return len(self.buffer)"
   ]
  },
  {
   "cell_type": "code",
   "execution_count": 14,
   "id": "1d048f54",
   "metadata": {},
   "outputs": [],
   "source": [
    "pq = Queue()\n",
    "\n",
    "pq.enqueue({\n",
    "    'company':'tata',\n",
    "    'timestamp':'12 June, 11:10 PM',\n",
    "    'price':101.25\n",
    "})\n",
    "\n",
    "pq.enqueue({\n",
    "    'company':'tata',\n",
    "    'timestamp':'12 June, 11:11 PM',\n",
    "    'price':99.5\n",
    "})\n",
    "\n",
    "pq.enqueue({\n",
    "    'company':'tata',\n",
    "    'timestamp':'12 June, 11:12 PM',\n",
    "    'price':101.09\n",
    "})"
   ]
  },
  {
   "cell_type": "code",
   "execution_count": 15,
   "id": "448a57cc",
   "metadata": {},
   "outputs": [
    {
     "data": {
      "text/plain": [
       "deque([{'company': 'tata', 'timestamp': '12 June, 11:12 PM', 'price': 101.09},\n",
       "       {'company': 'tata', 'timestamp': '12 June, 11:11 PM', 'price': 99.5},\n",
       "       {'company': 'tata', 'timestamp': '12 June, 11:10 PM', 'price': 101.25}])"
      ]
     },
     "execution_count": 15,
     "metadata": {},
     "output_type": "execute_result"
    }
   ],
   "source": [
    "pq.buffer"
   ]
  },
  {
   "cell_type": "code",
   "execution_count": 16,
   "id": "cc723f45",
   "metadata": {},
   "outputs": [
    {
     "data": {
      "text/plain": [
       "3"
      ]
     },
     "execution_count": 16,
     "metadata": {},
     "output_type": "execute_result"
    }
   ],
   "source": [
    "pq.size()"
   ]
  },
  {
   "cell_type": "code",
   "execution_count": 17,
   "id": "24175118",
   "metadata": {},
   "outputs": [
    {
     "data": {
      "text/plain": [
       "{'company': 'tata', 'timestamp': '12 June, 11:10 PM', 'price': 101.25}"
      ]
     },
     "execution_count": 17,
     "metadata": {},
     "output_type": "execute_result"
    }
   ],
   "source": [
    "pq.dequeue()"
   ]
  },
  {
   "cell_type": "code",
   "execution_count": 18,
   "id": "f0e4d3a1",
   "metadata": {},
   "outputs": [
    {
     "data": {
      "text/plain": [
       "deque([{'company': 'tata', 'timestamp': '12 June, 11:12 PM', 'price': 101.09},\n",
       "       {'company': 'tata', 'timestamp': '12 June, 11:11 PM', 'price': 99.5}])"
      ]
     },
     "execution_count": 18,
     "metadata": {},
     "output_type": "execute_result"
    }
   ],
   "source": [
    "pq.buffer"
   ]
  },
  {
   "cell_type": "code",
   "execution_count": 20,
   "id": "59d14618",
   "metadata": {},
   "outputs": [
    {
     "data": {
      "text/plain": [
       "False"
      ]
     },
     "execution_count": 20,
     "metadata": {},
     "output_type": "execute_result"
    }
   ],
   "source": [
    "pq.is_empty()"
   ]
  },
  {
   "cell_type": "code",
   "execution_count": 21,
   "id": "62ab7d9a",
   "metadata": {},
   "outputs": [
    {
     "data": {
      "text/plain": [
       "{'company': 'tata', 'timestamp': '12 June, 11:11 PM', 'price': 99.5}"
      ]
     },
     "execution_count": 21,
     "metadata": {},
     "output_type": "execute_result"
    }
   ],
   "source": [
    "pq.dequeue()"
   ]
  },
  {
   "cell_type": "code",
   "execution_count": 22,
   "id": "99b03de5",
   "metadata": {},
   "outputs": [
    {
     "data": {
      "text/plain": [
       "{'company': 'tata', 'timestamp': '12 June, 11:12 PM', 'price': 101.09}"
      ]
     },
     "execution_count": 22,
     "metadata": {},
     "output_type": "execute_result"
    }
   ],
   "source": [
    "pq.dequeue()"
   ]
  },
  {
   "cell_type": "code",
   "execution_count": 23,
   "id": "a382368e",
   "metadata": {},
   "outputs": [
    {
     "data": {
      "text/plain": [
       "0"
      ]
     },
     "execution_count": 23,
     "metadata": {},
     "output_type": "execute_result"
    }
   ],
   "source": [
    "pq.size()"
   ]
  },
  {
   "cell_type": "code",
   "execution_count": 24,
   "id": "99f1c7a3",
   "metadata": {},
   "outputs": [
    {
     "data": {
      "text/plain": [
       "True"
      ]
     },
     "execution_count": 24,
     "metadata": {},
     "output_type": "execute_result"
    }
   ],
   "source": [
    "pq.is_empty()"
   ]
  },
  {
   "cell_type": "code",
   "execution_count": null,
   "id": "5d045012",
   "metadata": {},
   "outputs": [],
   "source": []
  }
 ],
 "metadata": {
  "kernelspec": {
   "display_name": "Python 3 (ipykernel)",
   "language": "python",
   "name": "python3"
  },
  "language_info": {
   "codemirror_mode": {
    "name": "ipython",
    "version": 3
   },
   "file_extension": ".py",
   "mimetype": "text/x-python",
   "name": "python",
   "nbconvert_exporter": "python",
   "pygments_lexer": "ipython3",
   "version": "3.9.7"
  }
 },
 "nbformat": 4,
 "nbformat_minor": 5
}
