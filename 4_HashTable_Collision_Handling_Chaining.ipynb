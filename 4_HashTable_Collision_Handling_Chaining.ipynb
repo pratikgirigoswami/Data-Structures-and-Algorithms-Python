{
 "cells": [
  {
   "cell_type": "markdown",
   "id": "a143fd6d",
   "metadata": {},
   "source": [
    "# Collision Scenario"
   ]
  },
  {
   "cell_type": "code",
   "execution_count": 1,
   "id": "045c4a84",
   "metadata": {},
   "outputs": [],
   "source": [
    "# The same class as previous implementation\n",
    "\n",
    "class HashTable:  \n",
    "    def __init__(self):\n",
    "        self.MAX = 10\n",
    "        self.arr = [None for i in range(self.MAX)]\n",
    "        \n",
    "    def get_hash(self, key):\n",
    "        hash = 0\n",
    "        for char in key:\n",
    "            hash += ord(char)\n",
    "        return hash % self.MAX\n",
    "    \n",
    "    def __getitem__(self, index):\n",
    "        h = self.get_hash(index)\n",
    "        return self.arr[h]\n",
    "    \n",
    "    def __setitem__(self, key, val):\n",
    "        h = self.get_hash(key)\n",
    "        self.arr[h] = val"
   ]
  },
  {
   "cell_type": "code",
   "execution_count": 2,
   "id": "a09089c3",
   "metadata": {},
   "outputs": [
    {
     "data": {
      "text/plain": [
       "9"
      ]
     },
     "execution_count": 2,
     "metadata": {},
     "output_type": "execute_result"
    }
   ],
   "source": [
    "t = HashTable()\n",
    "t.get_hash(\"march 6\")"
   ]
  },
  {
   "cell_type": "code",
   "execution_count": 3,
   "id": "02e8301f",
   "metadata": {},
   "outputs": [
    {
     "data": {
      "text/plain": [
       "9"
      ]
     },
     "execution_count": 3,
     "metadata": {},
     "output_type": "execute_result"
    }
   ],
   "source": [
    "t.get_hash(\"march 17\")"
   ]
  },
  {
   "cell_type": "markdown",
   "id": "1a37f743",
   "metadata": {},
   "source": [
    "So, hash values are same for march 6 and march 17 both."
   ]
  },
  {
   "cell_type": "code",
   "execution_count": 4,
   "id": "1dd53d24",
   "metadata": {},
   "outputs": [],
   "source": [
    "t[\"march 6\"] = 120\n",
    "t[\"march 8\"] = 67\n",
    "t[\"march 9\"] = 4\n",
    "t[\"march 17\"] = 459"
   ]
  },
  {
   "cell_type": "markdown",
   "id": "bff6a250",
   "metadata": {},
   "source": [
    "In this case, 459 will overwrite 120 as its hash value is same as march 6."
   ]
  },
  {
   "cell_type": "code",
   "execution_count": 5,
   "id": "e7cdd0db",
   "metadata": {},
   "outputs": [
    {
     "data": {
      "text/plain": [
       "459"
      ]
     },
     "execution_count": 5,
     "metadata": {},
     "output_type": "execute_result"
    }
   ],
   "source": [
    "t[\"march 6\"]"
   ]
  },
  {
   "cell_type": "markdown",
   "id": "9797be52",
   "metadata": {},
   "source": [
    "# Two ways to handle collisions:\n",
    "# 1. Chaining\n",
    "# 2. Linear Probing"
   ]
  },
  {
   "cell_type": "markdown",
   "id": "af4ce274",
   "metadata": {},
   "source": [
    "# Implementation of Chaining technique to handle collision"
   ]
  },
  {
   "cell_type": "code",
   "execution_count": 6,
   "id": "c1e073ae",
   "metadata": {},
   "outputs": [],
   "source": [
    "class HashTable:  \n",
    "    def __init__(self):\n",
    "        self.MAX = 10\n",
    "        self.arr = [[] for i in range(self.MAX)]\n",
    "        \n",
    "    def get_hash(self, key):\n",
    "        hash = 0\n",
    "        for char in key:\n",
    "            hash += ord(char)\n",
    "        return hash % self.MAX\n",
    "    \n",
    "    def __getitem__(self, key):\n",
    "        arr_index = self.get_hash(key)\n",
    "        for kv in self.arr[arr_index]:\n",
    "            if kv[0] == key:\n",
    "                return kv[1]\n",
    "            \n",
    "    def __setitem__(self, key, val):\n",
    "        h = self.get_hash(key)\n",
    "        found = False\n",
    "        for idx, element in enumerate(self.arr[h]):\n",
    "            if len(element)==2 and element[0] == key:\n",
    "                self.arr[h][idx] = (key,val)\n",
    "                found = True\n",
    "        if not found:\n",
    "            self.arr[h].append((key,val))\n",
    "        \n",
    "    def __delitem__(self, key):\n",
    "        arr_index = self.get_hash(key)\n",
    "        for index, kv in enumerate(self.arr[arr_index]):\n",
    "            if kv[0] == key:\n",
    "                print(\"del\",index)\n",
    "                del self.arr[arr_index][index]"
   ]
  },
  {
   "cell_type": "code",
   "execution_count": 7,
   "id": "68e25ed0",
   "metadata": {},
   "outputs": [],
   "source": [
    "t = HashTable()\n",
    "t[\"march 6\"] = 310\n",
    "t[\"march 7\"] = 420\n",
    "t[\"march 8\"] = 67\n",
    "t[\"march 17\"] = 63457"
   ]
  },
  {
   "cell_type": "code",
   "execution_count": 8,
   "id": "afb72add",
   "metadata": {},
   "outputs": [
    {
     "data": {
      "text/plain": [
       "310"
      ]
     },
     "execution_count": 8,
     "metadata": {},
     "output_type": "execute_result"
    }
   ],
   "source": [
    "t[\"march 6\"]"
   ]
  },
  {
   "cell_type": "code",
   "execution_count": 9,
   "id": "01b75d0a",
   "metadata": {},
   "outputs": [
    {
     "data": {
      "text/plain": [
       "63457"
      ]
     },
     "execution_count": 9,
     "metadata": {},
     "output_type": "execute_result"
    }
   ],
   "source": [
    "t[\"march 17\"]"
   ]
  },
  {
   "cell_type": "code",
   "execution_count": 10,
   "id": "65a74892",
   "metadata": {},
   "outputs": [
    {
     "data": {
      "text/plain": [
       "[[('march 7', 420)],\n",
       " [('march 8', 67)],\n",
       " [],\n",
       " [],\n",
       " [],\n",
       " [],\n",
       " [],\n",
       " [],\n",
       " [],\n",
       " [('march 6', 310), ('march 17', 63457)]]"
      ]
     },
     "execution_count": 10,
     "metadata": {},
     "output_type": "execute_result"
    }
   ],
   "source": [
    "t.arr"
   ]
  },
  {
   "cell_type": "code",
   "execution_count": 11,
   "id": "b6465570",
   "metadata": {},
   "outputs": [],
   "source": [
    "t[\"march 6\"] = 11"
   ]
  },
  {
   "cell_type": "code",
   "execution_count": 12,
   "id": "26e096eb",
   "metadata": {},
   "outputs": [
    {
     "data": {
      "text/plain": [
       "[[('march 7', 420)],\n",
       " [('march 8', 67)],\n",
       " [],\n",
       " [],\n",
       " [],\n",
       " [],\n",
       " [],\n",
       " [],\n",
       " [],\n",
       " [('march 6', 11), ('march 17', 63457)]]"
      ]
     },
     "execution_count": 12,
     "metadata": {},
     "output_type": "execute_result"
    }
   ],
   "source": [
    "t.arr"
   ]
  },
  {
   "cell_type": "code",
   "execution_count": 14,
   "id": "382e904c",
   "metadata": {},
   "outputs": [
    {
     "data": {
      "text/plain": [
       "11"
      ]
     },
     "execution_count": 14,
     "metadata": {},
     "output_type": "execute_result"
    }
   ],
   "source": [
    "t[\"march 6\"]"
   ]
  },
  {
   "cell_type": "code",
   "execution_count": 15,
   "id": "1348e7ad",
   "metadata": {},
   "outputs": [
    {
     "name": "stdout",
     "output_type": "stream",
     "text": [
      "del 0\n"
     ]
    }
   ],
   "source": [
    "del t[\"march 6\"]"
   ]
  },
  {
   "cell_type": "code",
   "execution_count": null,
   "id": "31daca42",
   "metadata": {},
   "outputs": [],
   "source": []
  }
 ],
 "metadata": {
  "kernelspec": {
   "display_name": "Python 3 (ipykernel)",
   "language": "python",
   "name": "python3"
  },
  "language_info": {
   "codemirror_mode": {
    "name": "ipython",
    "version": 3
   },
   "file_extension": ".py",
   "mimetype": "text/x-python",
   "name": "python",
   "nbconvert_exporter": "python",
   "pygments_lexer": "ipython3",
   "version": "3.9.7"
  }
 },
 "nbformat": 4,
 "nbformat_minor": 5
}
